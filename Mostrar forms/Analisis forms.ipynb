{
 "cells": [
  {
   "cell_type": "code",
   "execution_count": 6,
   "metadata": {
    "collapsed": true,
    "ExecuteTime": {
     "end_time": "2023-06-01T01:24:51.807840200Z",
     "start_time": "2023-06-01T01:24:51.766614100Z"
    }
   },
   "outputs": [
    {
     "name": "stdout",
     "output_type": "stream",
     "text": [
      "  Ingrese su edad Ingrese su genero Que red social usa con mayor frecuencia?  \\\n",
      "0     Menos de 20         Masculino                                  Youtube   \n",
      "1           40-50          Femenino                                 Facebook   \n",
      "2           20-30          Femenino                                Instagram   \n",
      "3           30-40         Masculino                                Instagram   \n",
      "4     Menos de 20          Femenino                                  Tik Tok   \n",
      "5           20-30         Masculino                                     Otra   \n",
      "6           40-50          Femenino                                  Youtube   \n",
      "\n",
      "                               Para que la usa?  \\\n",
      "0  Ver creadores de contenido (entretenimiento)   \n",
      "1                        Relacionarse con otros   \n",
      "2                                      Aprender   \n",
      "3  Ver creadores de contenido (entretenimiento)   \n",
      "4  Ver creadores de contenido (entretenimiento)   \n",
      "5                        Relacionarse con otros   \n",
      "6         Promocionar/publicar contenido propio   \n",
      "\n",
      "  Cuanto tiempo le dedica por dia?  \n",
      "0           Entre 1 hora y 2 horas  \n",
      "1           Entre 1 hora y 2 horas  \n",
      "2            Entre 30 y 60 minutos  \n",
      "3           Entre 1 hora y 2 horas  \n",
      "4            Entre 30 y 60 minutos  \n",
      "5            Entre 30 y 60 minutos  \n",
      "6           Entre 1 hora y 2 horas  \n"
     ]
    }
   ],
   "source": [
    "import pandas as pd\n",
    "import matplotlib.pyplot as plt1\n",
    "\n",
    "forms =pd.read_csv(\"Respuestas redes sociales.csv\")\n",
    "forms =forms.drop(\"Marca temporal\", axis=1)\n",
    "\n",
    "forms.dropna(inplace=True)\n",
    "\n",
    "print(forms)"
   ]
  },
  {
   "cell_type": "markdown",
   "source": [
    "# TEST"
   ],
   "metadata": {
    "collapsed": false
   }
  }
 ],
 "metadata": {
  "kernelspec": {
   "display_name": "Python 3",
   "language": "python",
   "name": "python3"
  },
  "language_info": {
   "codemirror_mode": {
    "name": "ipython",
    "version": 2
   },
   "file_extension": ".py",
   "mimetype": "text/x-python",
   "name": "python",
   "nbconvert_exporter": "python",
   "pygments_lexer": "ipython2",
   "version": "2.7.6"
  }
 },
 "nbformat": 4,
 "nbformat_minor": 0
}
